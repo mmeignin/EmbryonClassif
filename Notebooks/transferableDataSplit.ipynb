{
 "cells": [
  {
   "cell_type": "code",
   "execution_count": 93,
   "id": "6a8aaa2c",
   "metadata": {},
   "outputs": [],
   "source": [
    "import os\n",
    "import pandas as pd\n",
    "import imageio\n",
    "path=os.getcwd()+\"/../\"\n",
    "pathtoframe=os.getcwd()+\"/../EmbryonVideoClassif/Frames\"\n",
    "pathtocsv=os.getcwd()+\"/../DataSplit/\""
   ]
  },
  {
   "cell_type": "code",
   "execution_count": 121,
   "id": "24889547",
   "metadata": {},
   "outputs": [],
   "source": [
    "d=[]\n",
    "n=[]\n",
    "for fn in os.listdir(pathtocsv):\n",
    "    if 'Embryon_RandomSplit' in fn:\n",
    "        d.append(pd.read_csv(pathtocsv+fn,index_col=0))\n",
    "        n.append(fn)"
   ]
  },
  {
   "cell_type": "code",
   "execution_count": 122,
   "id": "c82021ce",
   "metadata": {},
   "outputs": [
    {
     "data": {
      "text/plain": [
       "[                                         Image VideoIdx FrameIdx  Class     t0\n",
       " 0          EmbryonVideoClassif/Frames/V1/1.png       V1    1.png      7  23.75\n",
       " 1          EmbryonVideoClassif/Frames/V1/2.png       V1    2.png      7  23.75\n",
       " 2          EmbryonVideoClassif/Frames/V1/3.png       V1    3.png      7  23.75\n",
       " 3          EmbryonVideoClassif/Frames/V1/4.png       V1    4.png      7  23.75\n",
       " 4          EmbryonVideoClassif/Frames/V1/5.png       V1    5.png      7  23.75\n",
       " ...                                        ...      ...      ...    ...    ...\n",
       " 79795  EmbryonVideoClassif/Frames/V270/296.png     V270  296.png      7  21.50\n",
       " 79796  EmbryonVideoClassif/Frames/V270/297.png     V270  297.png      7  21.50\n",
       " 79797  EmbryonVideoClassif/Frames/V270/298.png     V270  298.png      7  21.50\n",
       " 79798  EmbryonVideoClassif/Frames/V270/299.png     V270  299.png      7  21.50\n",
       " 79799  EmbryonVideoClassif/Frames/V270/300.png     V270  300.png      7  21.50\n",
       " \n",
       " [14100 rows x 5 columns],\n",
       "                                          Image VideoIdx FrameIdx  Class     t0\n",
       " 600        EmbryonVideoClassif/Frames/V3/1.png       V3    1.png      0  23.75\n",
       " 601        EmbryonVideoClassif/Frames/V3/2.png       V3    2.png      0  23.75\n",
       " 602        EmbryonVideoClassif/Frames/V3/3.png       V3    3.png      0  23.75\n",
       " 603        EmbryonVideoClassif/Frames/V3/4.png       V3    4.png      0  23.75\n",
       " 604        EmbryonVideoClassif/Frames/V3/5.png       V3    5.png      0  23.75\n",
       " ...                                        ...      ...      ...    ...    ...\n",
       " 81895  EmbryonVideoClassif/Frames/V277/296.png     V277  296.png      3  23.25\n",
       " 81896  EmbryonVideoClassif/Frames/V277/297.png     V277  297.png      3  23.25\n",
       " 81897  EmbryonVideoClassif/Frames/V277/298.png     V277  298.png      3  23.25\n",
       " 81898  EmbryonVideoClassif/Frames/V277/299.png     V277  299.png      3  23.25\n",
       " 81899  EmbryonVideoClassif/Frames/V277/300.png     V277  300.png      3  23.25\n",
       " \n",
       " [54000 rows x 5 columns],\n",
       "                                          Image VideoIdx FrameIdx  Class    t0\n",
       " 3000      EmbryonVideoClassif/Frames/V11/1.png      V11    1.png      2  23.5\n",
       " 3001      EmbryonVideoClassif/Frames/V11/2.png      V11    2.png      2  23.5\n",
       " 3002      EmbryonVideoClassif/Frames/V11/3.png      V11    3.png      2  23.5\n",
       " 3003      EmbryonVideoClassif/Frames/V11/4.png      V11    4.png      2  23.5\n",
       " 3004      EmbryonVideoClassif/Frames/V11/5.png      V11    5.png      2  23.5\n",
       " ...                                        ...      ...      ...    ...   ...\n",
       " 80995  EmbryonVideoClassif/Frames/V274/296.png     V274  296.png      7  21.5\n",
       " 80996  EmbryonVideoClassif/Frames/V274/297.png     V274  297.png      7  21.5\n",
       " 80997  EmbryonVideoClassif/Frames/V274/298.png     V274  298.png      7  21.5\n",
       " 80998  EmbryonVideoClassif/Frames/V274/299.png     V274  299.png      7  21.5\n",
       " 80999  EmbryonVideoClassif/Frames/V274/300.png     V274  300.png      7  21.5\n",
       " \n",
       " [13800 rows x 5 columns]]"
      ]
     },
     "execution_count": 122,
     "metadata": {},
     "output_type": "execute_result"
    }
   ],
   "source": [
    "d"
   ]
  },
  {
   "cell_type": "code",
   "execution_count": 123,
   "id": "29917a5a",
   "metadata": {},
   "outputs": [
    {
     "name": "stdout",
     "output_type": "stream",
     "text": [
      "5700\n",
      "8400\n",
      "21300\n",
      "32700\n",
      "5400\n",
      "8400\n"
     ]
    }
   ],
   "source": [
    "for i in range(3):\n",
    "    print(len(d[i].loc[d[i]['Class']<=3,'Class']))\n",
    "    print(len(d[i].loc[d[i]['Class']>=4,'Class']))"
   ]
  },
  {
   "cell_type": "code",
   "execution_count": 124,
   "id": "cfbea26e",
   "metadata": {},
   "outputs": [],
   "source": [
    "for i in range(3):\n",
    "    d[i].loc[d[i]['Class']<=3,'Class'] =0\n",
    "    d[i].loc[d[i]['Class']>=4,'Class'] =1\n"
   ]
  },
  {
   "cell_type": "code",
   "execution_count": 125,
   "id": "eaf72534",
   "metadata": {},
   "outputs": [
    {
     "name": "stdout",
     "output_type": "stream",
     "text": [
      "5700\n",
      "8400\n",
      "21300\n",
      "32700\n",
      "5400\n",
      "8400\n"
     ]
    }
   ],
   "source": [
    "for i in range(3):\n",
    "    print(len(d[i].loc[d[i]['Class']==0,'Class']))\n",
    "    print(len(d[i].loc[d[i]['Class']==1,'Class']))"
   ]
  },
  {
   "cell_type": "code",
   "execution_count": 129,
   "id": "e5cf0b60",
   "metadata": {},
   "outputs": [
    {
     "name": "stdout",
     "output_type": "stream",
     "text": [
      "Embryon_RandomSplit_test.csv\n",
      "Embryon_RandomSplit_train.csv\n",
      "Embryon_RandomSplit_val.csv\n"
     ]
    }
   ],
   "source": [
    "for i in range(3):\n",
    "    print(n[i])\n",
    "    d[i].to_csv(pathtocsv+n[i].replace(\"Embryon_RandomSplit\",\"transferable\"),index=False)"
   ]
  }
 ],
 "metadata": {
  "kernelspec": {
   "display_name": "Python 3 (ipykernel)",
   "language": "python",
   "name": "python3"
  },
  "language_info": {
   "codemirror_mode": {
    "name": "ipython",
    "version": 3
   },
   "file_extension": ".py",
   "mimetype": "text/x-python",
   "name": "python",
   "nbconvert_exporter": "python",
   "pygments_lexer": "ipython3",
   "version": "3.9.12"
  }
 },
 "nbformat": 4,
 "nbformat_minor": 5
}
