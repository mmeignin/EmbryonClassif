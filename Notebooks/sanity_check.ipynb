{
 "cells": [
  {
   "cell_type": "code",
   "execution_count": 1,
   "id": "32f4640b",
   "metadata": {},
   "outputs": [
    {
     "name": "stdout",
     "output_type": "stream",
     "text": [
      "/home/mmeignin/montages_reseau/home_maiage/mmeignin/Classification/EmbryonClassif/Notebooks/../DataSplit/\n"
     ]
    }
   ],
   "source": [
    "import os \n",
    "import pandas as pd\n",
    "path=os.getcwd()+\"/../DataSplit/\"\n",
    "print(path)"
   ]
  },
  {
   "cell_type": "code",
   "execution_count": 2,
   "id": "b7b93a19",
   "metadata": {},
   "outputs": [
    {
     "data": {
      "text/plain": [
       "['EmbryonRaw_RandomSplit_test.csv',\n",
       " 'EmbryonRaw_RandomSplit_train.csv',\n",
       " 'EmbryonRaw_RandomSplit_val.csv',\n",
       " 'Embryon_RandomSplit_test.csv',\n",
       " 'Embryon_RandomSplit_train.csv',\n",
       " 'Embryon_RandomSplit_val.csv',\n",
       " 'EmbryonBinary_RandomSplit_test.csv',\n",
       " 'EmbryonBinary_RandomSplit_train.csv',\n",
       " 'EmbryonBinary_RandomSplit_val.csv',\n",
       " 'EmbryonBinaryRaw_RandomSplit_test.csv',\n",
       " 'EmbryonBinaryRaw_RandomSplit_train.csv',\n",
       " 'EmbryonBinaryRaw_RandomSplit_val.csv',\n",
       " 'Embryon_RawAndSegmented_RandomSplit_test.csv',\n",
       " 'Embryon_RawAndSegmented_RandomSplit_train.csv',\n",
       " 'Embryon_RawAndSegmented_RandomSplit_val.csv']"
      ]
     },
     "execution_count": 2,
     "metadata": {},
     "output_type": "execute_result"
    }
   ],
   "source": [
    "os.listdir(path)"
   ]
  },
  {
   "cell_type": "code",
   "execution_count": 3,
   "id": "9e3523eb",
   "metadata": {},
   "outputs": [
    {
     "name": "stdout",
     "output_type": "stream",
     "text": [
      "              Class            t0\n",
      "count  14100.000000  14100.000000\n",
      "mean       0.340426     22.436170\n",
      "std        0.473869      0.804716\n",
      "min        0.000000     21.250000\n",
      "25%        0.000000     21.750000\n",
      "50%        0.000000     22.500000\n",
      "75%        1.000000     23.250000\n",
      "max        1.000000     23.750000\n",
      "              Class            t0\n",
      "count  54000.000000  54000.000000\n",
      "mean       0.350000     22.376389\n",
      "std        0.476974      0.796483\n",
      "min        0.000000     19.500000\n",
      "25%        0.000000     21.750000\n",
      "50%        0.000000     22.500000\n",
      "75%        1.000000     23.000000\n",
      "max        1.000000     23.750000\n",
      "              Class            t0\n",
      "count  13800.000000  13800.000000\n",
      "mean       0.369565     22.336957\n",
      "std        0.482705      0.821312\n",
      "min        0.000000     20.750000\n",
      "25%        0.000000     21.500000\n",
      "50%        0.000000     22.500000\n",
      "75%        1.000000     23.250000\n",
      "max        1.000000     23.750000\n",
      "              Class            t0\n",
      "count  14100.000000  14100.000000\n",
      "mean       0.340426     22.436170\n",
      "std        0.473869      0.804716\n",
      "min        0.000000     21.250000\n",
      "25%        0.000000     21.750000\n",
      "50%        0.000000     22.500000\n",
      "75%        1.000000     23.250000\n",
      "max        1.000000     23.750000\n",
      "              Class            t0\n",
      "count  54000.000000  54000.000000\n",
      "mean       0.350000     22.376389\n",
      "std        0.476974      0.796483\n",
      "min        0.000000     19.500000\n",
      "25%        0.000000     21.750000\n",
      "50%        0.000000     22.500000\n",
      "75%        1.000000     23.000000\n",
      "max        1.000000     23.750000\n",
      "              Class            t0\n",
      "count  13800.000000  13800.000000\n",
      "mean       0.369565     22.336957\n",
      "std        0.482705      0.821312\n",
      "min        0.000000     20.750000\n",
      "25%        0.000000     21.500000\n",
      "50%        0.000000     22.500000\n",
      "75%        1.000000     23.250000\n",
      "max        1.000000     23.750000\n"
     ]
    }
   ],
   "source": [
    "for fn in os.listdir(path):\n",
    "    if 'Binary' in fn:\n",
    "        df=pd.read_csv(path+'/'+fn,index_col=0)\n",
    "        df.drop(df.columns[df.columns.str.contains('unnamed',case = False)],axis = 1, inplace = True)\n",
    "        df.to_csv(path+'/'+fn)\n",
    "        print(df.describe())\n",
    "        \n",
    "#df.to_csv(path+'/test.csv')"
   ]
  }
 ],
 "metadata": {
  "kernelspec": {
   "display_name": "Python 3 (ipykernel)",
   "language": "python",
   "name": "python3"
  },
  "language_info": {
   "codemirror_mode": {
    "name": "ipython",
    "version": 3
   },
   "file_extension": ".py",
   "mimetype": "text/x-python",
   "name": "python",
   "nbconvert_exporter": "python",
   "pygments_lexer": "ipython3",
   "version": "3.9.12"
  }
 },
 "nbformat": 4,
 "nbformat_minor": 5
}
