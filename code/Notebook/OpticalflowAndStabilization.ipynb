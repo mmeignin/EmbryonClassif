{
 "cells": [
  {
   "cell_type": "code",
   "execution_count": 1,
   "id": "44105bbf",
   "metadata": {},
   "outputs": [],
   "source": [
    "import cv2\n",
    "import numpy as np\n",
    "\n",
    "\n"
   ]
  },
  {
   "cell_type": "code",
   "execution_count": 6,
   "id": "938826be",
   "metadata": {},
   "outputs": [
    {
     "name": "stdout",
     "output_type": "stream",
     "text": [
      "coucou\n"
     ]
    }
   ],
   "source": [
    "import cv2\n",
    "import numpy as np\n",
    "\n",
    "\n",
    "def interpolate_frames(frame, coords, flow, n_frames):\n",
    "    frames = [frame]\n",
    "    for f in range(1, n_frames):\n",
    "        pixel_map = coords + (f/n_frames) * flow\n",
    "        inter_frame = cv2.remap(frame, pixel_map, None, cv2.INTER_LINEAR)\n",
    "        frames.append(inter_frame)\n",
    "    return frames\n",
    "\n",
    "def flow_to_color(flow, hsv):\n",
    "    mag, ang = cv2.cartToPolar(flow[..., 0], flow[..., 1])\n",
    "    hsv[..., 0] = ang*180/np.pi/2\n",
    "    hsv[..., 2] = cv2.normalize(mag, None, 0, 255, cv2.NORM_MINMAX)\n",
    "    return cv2.cvtColor(hsv, cv2.COLOR_HSV2BGR)\n",
    "\n",
    "file=\"V11_centered.mp4\"\n",
    "cap = cv2.VideoCapture('mmeignin/test/'+file)\n",
    "\n",
    "\n",
    "w = int(cap.get(cv2.CAP_PROP_FRAME_WIDTH))\n",
    "h = int(cap.get(cv2.CAP_PROP_FRAME_HEIGHT))\n",
    "fourcc = cv2.VideoWriter_fourcc(*'mp4v')\n",
    "out = cv2.VideoWriter('mmeignin/'+file+'_stabiliser.mp4', fourcc, 24, (w, h))\n",
    "out2 = cv2.VideoWriter('mmeignin/'+file+'flow.mp4', fourcc, 24, (w, h))\n",
    "\n",
    "optflow_params = [0.5, 3, 15, 3, 5, 1.2, 0]\n",
    "\n",
    "frame_exists, prev_frame = cap.read()\n",
    "prev = cv2.cvtColor(prev_frame, cv2.COLOR_BGR2GRAY)\n",
    "hsv = np.zeros_like(prev_frame)\n",
    "hsv[..., 1] = 255\n",
    "y_coords, x_coords = np.mgrid[0:h, 0:w]\n",
    "coords = np.float32(np.dstack([x_coords, y_coords]))\n",
    "    \n",
    "while(cap.isOpened()):\n",
    "    frame_exists, curr_frame = cap.read()\n",
    "    if frame_exists:\n",
    "        curr = cv2.cvtColor(curr_frame, cv2.COLOR_BGR2GRAY)\n",
    "        flow = cv2.calcOpticalFlowFarneback(curr, prev, None, *optflow_params)\n",
    "        rgb = flow_to_color(flow, hsv)\n",
    "        out2.write(rgb)\n",
    "        inter_frames = interpolate_frames(prev_frame, coords, flow, 4)\n",
    "        for frame in inter_frames:\n",
    "            out.write(frame)\n",
    "        prev_frame = curr_frame\n",
    "        prev = curr\n",
    "    else:\n",
    "        break\n",
    "print(\"coucou\")\n",
    "cap.release()\n",
    "out.release()\n",
    "out2.release()"
   ]
  },
  {
   "cell_type": "code",
   "execution_count": 18,
   "id": "01fa95fd",
   "metadata": {},
   "outputs": [
    {
     "ename": "NameError",
     "evalue": "name 'df' is not defined",
     "output_type": "error",
     "traceback": [
      "\u001b[0;31m---------------------------------------------------------------------------\u001b[0m",
      "\u001b[0;31mNameError\u001b[0m                                 Traceback (most recent call last)",
      "Input \u001b[0;32mIn [18]\u001b[0m, in \u001b[0;36m<cell line: 1>\u001b[0;34m()\u001b[0m\n\u001b[0;32m----> 1\u001b[0m lower \u001b[38;5;241m=\u001b[39m \u001b[43mdf\u001b[49m\u001b[38;5;241m.\u001b[39mcol0\u001b[38;5;241m.\u001b[39mquantile(\u001b[38;5;241m.05\u001b[39m)\n\u001b[1;32m      2\u001b[0m upper \u001b[38;5;241m=\u001b[39m df\u001b[38;5;241m.\u001b[39mcol0\u001b[38;5;241m.\u001b[39mquantile(\u001b[38;5;241m.95\u001b[39m)\n\u001b[1;32m      4\u001b[0m df \u001b[38;5;241m=\u001b[39m df\u001b[38;5;241m.\u001b[39mclip(lower\u001b[38;5;241m=\u001b[39mlower, upper\u001b[38;5;241m=\u001b[39mupper)\n",
      "\u001b[0;31mNameError\u001b[0m: name 'df' is not defined"
     ]
    }
   ],
   "source": []
  },
  {
   "cell_type": "code",
   "execution_count": null,
   "id": "6009353b",
   "metadata": {},
   "outputs": [],
   "source": []
  }
 ],
 "metadata": {
  "kernelspec": {
   "display_name": "Python 3 (ipykernel)",
   "language": "python",
   "name": "python3"
  },
  "language_info": {
   "codemirror_mode": {
    "name": "ipython",
    "version": 3
   },
   "file_extension": ".py",
   "mimetype": "text/x-python",
   "name": "python",
   "nbconvert_exporter": "python",
   "pygments_lexer": "ipython3",
   "version": "3.9.12"
  }
 },
 "nbformat": 4,
 "nbformat_minor": 5
}
